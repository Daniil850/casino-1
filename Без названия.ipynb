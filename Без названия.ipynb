{
 "cells": [
  {
   "cell_type": "code",
   "execution_count": 18,
   "metadata": {},
   "outputs": [],
   "source": [
    "cells = [['0', 'green'], ['00', 'green'],\n",
    "         ['1', 'red'], ['2', 'black'], ['3', 'red'], ['4', 'black'], ['5', 'red'], ['6', 'black'],\n",
    "         ['7', 'red'], ['8', 'black'], ['9', 'red'], ['10', 'black'], ['11', 'black'], ['12', 'red'],\n",
    "         ['13', 'black'], ['14', 'red'], ['15', 'black'], ['16', 'red'], ['17', 'black'], ['18', 'red'],\n",
    "         ['19', 'red'], ['20', 'black'], ['21', 'red'], ['22', 'black'], ['23', 'red'], ['24', 'black'],\n",
    "         ['25', 'red'], ['26', 'black'], ['27', 'red'], ['28', 'black'], ['29', 'black'], ['30', 'red'],\n",
    "         ['31', 'black'], ['32', 'red'], ['33', 'black'], ['34', 'red'], ['35', 'black'], ['36', 'red']\n",
    "        ]"
   ]
  },
  {
   "cell_type": "code",
   "execution_count": 19,
   "metadata": {},
   "outputs": [],
   "source": [
    "import random "
   ]
  },
  {
   "cell_type": "code",
   "execution_count": 20,
   "metadata": {},
   "outputs": [],
   "source": [
    "def randomizer():\n",
    "    result = random.choice(cells)\n",
    "    return result"
   ]
  },
  {
   "cell_type": "code",
   "execution_count": 21,
   "metadata": {},
   "outputs": [],
   "source": [
    "def print_result(cell):\n",
    "    if cell == '0' or cell == '00':\n",
    "        print (cell)\n",
    "    else:\n",
    "        print('Выпало:', cell [0], cell[1])"
   ]
  },
  {
   "cell_type": "code",
   "execution_count": 22,
   "metadata": {},
   "outputs": [
    {
     "name": "stdout",
     "output_type": "stream",
     "text": [
      "Выпало: 21 red\n"
     ]
    }
   ],
   "source": [
    "print_result(randomizer())"
   ]
  },
  {
   "cell_type": "code",
   "execution_count": 23,
   "metadata": {},
   "outputs": [],
   "source": [
    "def user_input():\n",
    "    user_input = input('enter your color and number: ')\n",
    "    return user_input"
   ]
  },
  {
   "cell_type": "code",
   "execution_count": 24,
   "metadata": {},
   "outputs": [],
   "source": [
    "def game():\n",
    "    user_in = user_input()\n",
    "    cell = randomizer()\n",
    "    print_result(cell)\n",
    "    if cell == '0' or cell == '00':\n",
    "        print('defeat')\n",
    "    elif user_in == 'red' and cell[1] == 'red':\n",
    "        print('victory')\n",
    "    elif user_in == 'green' and cell[1] == 'green':\n",
    "        print('victory')\n",
    "    elif user_in =='black' and cell[1] == 'black':\n",
    "        print('victory')\n",
    "    else: \n",
    "        print('defeat')\n",
    "        game()"
   ]
  },
  {
   "cell_type": "code",
   "execution_count": 25,
   "metadata": {},
   "outputs": [],
   "source": [
    "money = 1000"
   ]
  },
  {
   "cell_type": "code",
   "execution_count": 26,
   "metadata": {},
   "outputs": [],
   "source": [
    "def check_if_int(value):\n",
    "    try:\n",
    "        int_val = int(value)\n",
    "        return int_val\n",
    "    except:\n",
    "        print('Ошибка ввода! Введите целое число')\n",
    "        return 'error'"
   ]
  },
  {
   "cell_type": "code",
   "execution_count": 27,
   "metadata": {},
   "outputs": [],
   "source": [
    "def bet(money):\n",
    "    user_input = input('Введите сумму ставки:')\n",
    "    int_val = check_if_int(user_input)\n",
    "    if int_val == 'error':\n",
    "        bet()\n",
    "    elif int_val > money:\n",
    "        print('Недостаточно средств')\n",
    "        bet()\n",
    "    else:\n",
    "        money = money - int_val\n",
    "        print('Ставка', int_val, 'принята, осталось средств:', money)\n",
    "        return money"
   ]
  },
  {
   "cell_type": "code",
   "execution_count": 29,
   "metadata": {},
   "outputs": [
    {
     "name": "stdout",
     "output_type": "stream",
     "text": [
      "Введите сумму ставки:10 red 10\n",
      "Ошибка ввода! Введите целое число\n"
     ]
    },
    {
     "ename": "TypeError",
     "evalue": "bet() missing 1 required positional argument: 'money'",
     "output_type": "error",
     "traceback": [
      "\u001b[1;31m---------------------------------------------------------------------------\u001b[0m",
      "\u001b[1;31mTypeError\u001b[0m                                 Traceback (most recent call last)",
      "\u001b[1;32m<ipython-input-29-359fbb6c8f68>\u001b[0m in \u001b[0;36m<module>\u001b[1;34m\u001b[0m\n\u001b[1;32m----> 1\u001b[1;33m \u001b[0mbet\u001b[0m\u001b[1;33m(\u001b[0m\u001b[0mmoney\u001b[0m\u001b[1;33m)\u001b[0m\u001b[1;33m\u001b[0m\u001b[1;33m\u001b[0m\u001b[0m\n\u001b[0m",
      "\u001b[1;32m<ipython-input-27-12021baee05a>\u001b[0m in \u001b[0;36mbet\u001b[1;34m(money)\u001b[0m\n\u001b[0;32m      3\u001b[0m     \u001b[0mint_val\u001b[0m \u001b[1;33m=\u001b[0m \u001b[0mcheck_if_int\u001b[0m\u001b[1;33m(\u001b[0m\u001b[0muser_input\u001b[0m\u001b[1;33m)\u001b[0m\u001b[1;33m\u001b[0m\u001b[1;33m\u001b[0m\u001b[0m\n\u001b[0;32m      4\u001b[0m     \u001b[1;32mif\u001b[0m \u001b[0mint_val\u001b[0m \u001b[1;33m==\u001b[0m \u001b[1;34m'error'\u001b[0m\u001b[1;33m:\u001b[0m\u001b[1;33m\u001b[0m\u001b[1;33m\u001b[0m\u001b[0m\n\u001b[1;32m----> 5\u001b[1;33m         \u001b[0mbet\u001b[0m\u001b[1;33m(\u001b[0m\u001b[1;33m)\u001b[0m\u001b[1;33m\u001b[0m\u001b[1;33m\u001b[0m\u001b[0m\n\u001b[0m\u001b[0;32m      6\u001b[0m     \u001b[1;32melif\u001b[0m \u001b[0mint_val\u001b[0m \u001b[1;33m>\u001b[0m \u001b[0mmoney\u001b[0m\u001b[1;33m:\u001b[0m\u001b[1;33m\u001b[0m\u001b[1;33m\u001b[0m\u001b[0m\n\u001b[0;32m      7\u001b[0m         \u001b[0mprint\u001b[0m\u001b[1;33m(\u001b[0m\u001b[1;34m'Недостаточно средств'\u001b[0m\u001b[1;33m)\u001b[0m\u001b[1;33m\u001b[0m\u001b[1;33m\u001b[0m\u001b[0m\n",
      "\u001b[1;31mTypeError\u001b[0m: bet() missing 1 required positional argument: 'money'"
     ]
    }
   ],
   "source": [
    "bet(money)"
   ]
  }
 ],
 "metadata": {
  "kernelspec": {
   "display_name": "Python 3",
   "language": "python",
   "name": "python3"
  },
  "language_info": {
   "codemirror_mode": {
    "name": "ipython",
    "version": 3
   },
   "file_extension": ".py",
   "mimetype": "text/x-python",
   "name": "python",
   "nbconvert_exporter": "python",
   "pygments_lexer": "ipython3",
   "version": "3.8.3"
  }
 },
 "nbformat": 4,
 "nbformat_minor": 5
}
